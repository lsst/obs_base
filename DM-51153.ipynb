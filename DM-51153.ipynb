{
 "cells": [
  {
   "cell_type": "code",
   "execution_count": 1,
   "id": "9d29464d",
   "metadata": {},
   "outputs": [],
   "source": [
    "from lsst.daf.butler import Butler\n",
    "\n",
    "butler = Butler.from_config(\n",
    "    \"/repo/dp1\",\n",
    "    instrument=\"LSSTComCam\",\n",
    "    skymap=\"lsst_cells_v1\",\n",
    "    collections=\"LSSTComCam/DP1\",\n",
    "    writeable=True,\n",
    ")"
   ]
  },
  {
   "cell_type": "code",
   "execution_count": 2,
   "id": "930b53c0",
   "metadata": {},
   "outputs": [],
   "source": [
    "camera = butler.get(\"camera\", instrument=\"LSSTComCam\")"
   ]
  },
  {
   "cell_type": "code",
   "execution_count": 3,
   "id": "c25c8897",
   "metadata": {},
   "outputs": [],
   "source": [
    "from importlib import reload\n",
    "\n",
    "import lsst.obs.base.visit_geometry\n",
    "\n",
    "reload(lsst.obs.base.visit_geometry)\n",
    "VisitGeometry = lsst.obs.base.visit_geometry.VisitGeometry"
   ]
  },
  {
   "cell_type": "code",
   "execution_count": 4,
   "id": "5a10134e",
   "metadata": {},
   "outputs": [],
   "source": [
    "with butler.query() as query:\n",
    "    query = query.join_dataset_search(\"preliminary_visit_summary\")\n",
    "    visits = VisitGeometry.from_query(query)"
   ]
  },
  {
   "cell_type": "code",
   "execution_count": 5,
   "id": "7a41711d",
   "metadata": {},
   "outputs": [],
   "source": [
    "from tqdm.notebook import tqdm"
   ]
  },
  {
   "cell_type": "code",
   "execution_count": 6,
   "id": "028b4d9d",
   "metadata": {},
   "outputs": [],
   "source": [
    "n = -1"
   ]
  },
  {
   "cell_type": "code",
   "execution_count": 9,
   "id": "60c458e3",
   "metadata": {},
   "outputs": [
    {
     "data": {
      "application/vnd.jupyter.widget-view+json": {
       "model_id": "3cb6099f4aa541979aa652f8e5e2a53b",
       "version_major": 2,
       "version_minor": 0
      },
      "text/plain": [
       " 43%|####3     | 778/1792 [00:00<?, ?it/s]"
      ]
     },
     "metadata": {},
     "output_type": "display_data"
    },
    {
     "data": {
      "text/plain": [
       "<Figure size 1000x1000 with 0 Axes>"
      ]
     },
     "metadata": {},
     "output_type": "display_data"
    }
   ],
   "source": [
    "from matplotlib import pyplot\n",
    "\n",
    "figure = pyplot.figure(figsize=(10, 10))\n",
    "\n",
    "\n",
    "def fix_and_plot_visit(visit):\n",
    "    figure.clear()\n",
    "    axes, proj = visit.plot(\n",
    "        figure=figure,\n",
    "        fit_region_style=dict(fill=True, facecolor=\"b\", edgecolor=\"b\", alpha=0.2),\n",
    "        raw_region_style=dict(fill=False, edgecolor=\"r\"),\n",
    "        fallback_region_style=dict(fill=False, edgecolor=\"g\"),\n",
    "        raw_axes_style=dict(color=\"r\", linestyle=\":\"),\n",
    "        fallback_axes_style=dict(color=\"g\", linestyle=\":\"),\n",
    "        detector_record_style=dict(fill=False, edgecolor=\"m\", linestyle=\":\"),\n",
    "        visit_record_style=dict(fill=False, edgecolor=\"m\"),\n",
    "        plot_all_fallback=True,\n",
    "    )\n",
    "    visit.fix_records()\n",
    "    visit.plot(\n",
    "        axes=axes,\n",
    "        proj=proj,\n",
    "        detector_record_style=dict(fill=False, edgecolor=\"c\", linestyle=\":\"),\n",
    "        visit_record_style=dict(fill=False, edgecolor=\"c\"),\n",
    "    )\n",
    "\n",
    "\n",
    "for n, visit in enumerate(tqdm(visits[n + 1 :], initial=n + 1, total=len(visits)), start=n + 1):\n",
    "    visit.load_detector_geometry(butler, camera=camera)\n",
    "    if visit.get_missing_detectors():\n",
    "        fix_and_plot_visit(visit)\n",
    "        break\n",
    "    else:\n",
    "        visit.fix_records()\n"
   ]
  },
  {
   "cell_type": "code",
   "execution_count": 10,
   "id": "e27c7190",
   "metadata": {},
   "outputs": [],
   "source": [
    "VisitGeometry.replace_butler_records(butler, visits)"
   ]
  },
  {
   "cell_type": "code",
   "execution_count": null,
   "id": "b45250ed",
   "metadata": {},
   "outputs": [],
   "source": []
  }
 ],
 "metadata": {
  "kernelspec": {
   "display_name": "Python 3 (ipykernel)",
   "language": "python",
   "name": "python3"
  },
  "language_info": {
   "codemirror_mode": {
    "name": "ipython",
    "version": 3
   },
   "file_extension": ".py",
   "mimetype": "text/x-python",
   "name": "python",
   "nbconvert_exporter": "python",
   "pygments_lexer": "ipython3",
   "version": "3.12.9"
  }
 },
 "nbformat": 4,
 "nbformat_minor": 5
}
